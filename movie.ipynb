{
 "cells": [
  {
   "cell_type": "markdown",
   "metadata": {},
   "source": []
  },
  {
   "cell_type": "code",
   "execution_count": 1,
   "metadata": {},
   "outputs": [],
   "source": [
    "import numpy as np\n",
    "import pandas as pd\n"
   ]
  },
  {
   "cell_type": "code",
   "execution_count": 2,
   "metadata": {},
   "outputs": [
    {
     "name": "stdout",
     "output_type": "stream",
     "text": [
      "         user_id  movie_id  rating       time\n",
      "0              1      1193       5  978300760\n",
      "1              1       661       3  978302109\n",
      "2              1       914       3  978301968\n",
      "3              1      3408       4  978300275\n",
      "4              1      2355       5  978824291\n",
      "5              1      1197       3  978302268\n",
      "6              1      1287       5  978302039\n",
      "7              1      2804       5  978300719\n",
      "8              1       594       4  978302268\n",
      "9              1       919       4  978301368\n",
      "10             1       595       5  978824268\n",
      "11             1       938       4  978301752\n",
      "12             1      2398       4  978302281\n",
      "13             1      2918       4  978302124\n",
      "14             1      1035       5  978301753\n",
      "15             1      2791       4  978302188\n",
      "16             1      2687       3  978824268\n",
      "17             1      2018       4  978301777\n",
      "18             1      3105       5  978301713\n",
      "19             1      2797       4  978302039\n",
      "20             1      2321       3  978302205\n",
      "21             1       720       3  978300760\n",
      "22             1      1270       5  978300055\n",
      "23             1       527       5  978824195\n",
      "24             1      2340       3  978300103\n",
      "25             1        48       5  978824351\n",
      "26             1      1097       4  978301953\n",
      "27             1      1721       4  978300055\n",
      "28             1      1545       4  978824139\n",
      "29             1       745       3  978824268\n",
      "...          ...       ...     ...        ...\n",
      "1000179     6040      2762       4  956704584\n",
      "1000180     6040      1036       3  956715455\n",
      "1000181     6040       508       4  956704972\n",
      "1000182     6040      1041       4  957717678\n",
      "1000183     6040      3735       4  960971654\n",
      "1000184     6040      2791       4  956715569\n",
      "1000185     6040      2794       1  956716438\n",
      "1000186     6040       527       5  956704219\n",
      "1000187     6040      2003       1  956716294\n",
      "1000188     6040       535       4  964828734\n",
      "1000189     6040      2010       5  957716795\n",
      "1000190     6040      2011       4  956716113\n",
      "1000191     6040      3751       4  964828782\n",
      "1000192     6040      2019       5  956703977\n",
      "1000193     6040       541       4  956715288\n",
      "1000194     6040      1077       5  964828799\n",
      "1000195     6040      1079       2  956715648\n",
      "1000196     6040       549       4  956704746\n",
      "1000197     6040      2020       3  956715288\n",
      "1000198     6040      2021       3  956716374\n",
      "1000199     6040      2022       5  956716207\n",
      "1000200     6040      2028       5  956704519\n",
      "1000201     6040      1080       4  957717322\n",
      "1000202     6040      1089       4  956704996\n",
      "1000203     6040      1090       3  956715518\n",
      "1000204     6040      1091       1  956716541\n",
      "1000205     6040      1094       5  956704887\n",
      "1000206     6040       562       5  956704746\n",
      "1000207     6040      1096       4  956715648\n",
      "1000208     6040      1097       4  956715569\n",
      "\n",
      "[1000209 rows x 4 columns]\n"
     ]
    }
   ],
   "source": [
    "ratingData = pd.io.parsers.read_csv('ratings.dat', names=['user_id', 'movie_id', 'rating', 'time'],engine='python', delimiter='::')\n",
    "movieData = pd.io.parsers.read_csv('movies.dat',names=['movie_id', 'title', 'genre'],engine='python', delimiter='::')\n",
    "\n",
    "print(ratingData)"
   ]
  },
  {
   "cell_type": "code",
   "execution_count": 3,
   "metadata": {},
   "outputs": [
    {
     "name": "stdout",
     "output_type": "stream",
     "text": [
      "      movie_id                                              title  \\\n",
      "0            1                                   Toy Story (1995)   \n",
      "1            2                                     Jumanji (1995)   \n",
      "2            3                            Grumpier Old Men (1995)   \n",
      "3            4                           Waiting to Exhale (1995)   \n",
      "4            5                 Father of the Bride Part II (1995)   \n",
      "5            6                                        Heat (1995)   \n",
      "6            7                                     Sabrina (1995)   \n",
      "7            8                                Tom and Huck (1995)   \n",
      "8            9                                Sudden Death (1995)   \n",
      "9           10                                   GoldenEye (1995)   \n",
      "10          11                     American President, The (1995)   \n",
      "11          12                 Dracula: Dead and Loving It (1995)   \n",
      "12          13                                       Balto (1995)   \n",
      "13          14                                       Nixon (1995)   \n",
      "14          15                            Cutthroat Island (1995)   \n",
      "15          16                                      Casino (1995)   \n",
      "16          17                       Sense and Sensibility (1995)   \n",
      "17          18                                  Four Rooms (1995)   \n",
      "18          19              Ace Ventura: When Nature Calls (1995)   \n",
      "19          20                                 Money Train (1995)   \n",
      "20          21                                  Get Shorty (1995)   \n",
      "21          22                                     Copycat (1995)   \n",
      "22          23                                   Assassins (1995)   \n",
      "23          24                                      Powder (1995)   \n",
      "24          25                           Leaving Las Vegas (1995)   \n",
      "25          26                                     Othello (1995)   \n",
      "26          27                                Now and Then (1995)   \n",
      "27          28                                  Persuasion (1995)   \n",
      "28          29                  City of Lost Children, The (1995)   \n",
      "29          30  Shanghai Triad (Yao a yao yao dao waipo qiao) ...   \n",
      "...        ...                                                ...   \n",
      "3853      3923                           Return of the Fly (1959)   \n",
      "3854      3924                                Pajama Party (1964)   \n",
      "3855      3925                      Stranger Than Paradise (1984)   \n",
      "3856      3926             Voyage to the Bottom of the Sea (1961)   \n",
      "3857      3927                            Fantastic Voyage (1966)   \n",
      "3858      3928       Abbott and Costello Meet Frankenstein (1948)   \n",
      "3859      3929                              Bank Dick, The (1940)   \n",
      "3860      3930         Creature From the Black Lagoon, The (1954)   \n",
      "3861      3931                     Giant Gila Monster, The (1959)   \n",
      "3862      3932                          Invisible Man, The (1933)   \n",
      "3863      3933                          Killer Shrews, The (1959)   \n",
      "3864      3934                                      Kronos (1957)   \n",
      "3865      3935                                      Kronos (1973)   \n",
      "3866      3936                   Phantom of the Opera, The (1943)   \n",
      "3867      3937                                     Runaway (1984)   \n",
      "3868      3938                 Slumber Party Massacre, The (1982)   \n",
      "3869      3939              Slumber Party Massacre II, The (1987)   \n",
      "3870      3940             Slumber Party Massacre III, The (1990)   \n",
      "3871      3941                     Sorority House Massacre (1986)   \n",
      "3872      3942                  Sorority House Massacre II (1990)   \n",
      "3873      3943                                  Bamboozled (2000)   \n",
      "3874      3944                                     Bootmen (2000)   \n",
      "3875      3945                          Digimon: The Movie (2000)   \n",
      "3876      3946                                  Get Carter (2000)   \n",
      "3877      3947                                  Get Carter (1971)   \n",
      "3878      3948                            Meet the Parents (2000)   \n",
      "3879      3949                         Requiem for a Dream (2000)   \n",
      "3880      3950                                   Tigerland (2000)   \n",
      "3881      3951                            Two Family House (2000)   \n",
      "3882      3952                              Contender, The (2000)   \n",
      "\n",
      "                               genre  \n",
      "0        Animation|Children's|Comedy  \n",
      "1       Adventure|Children's|Fantasy  \n",
      "2                     Comedy|Romance  \n",
      "3                       Comedy|Drama  \n",
      "4                             Comedy  \n",
      "5              Action|Crime|Thriller  \n",
      "6                     Comedy|Romance  \n",
      "7               Adventure|Children's  \n",
      "8                             Action  \n",
      "9          Action|Adventure|Thriller  \n",
      "10              Comedy|Drama|Romance  \n",
      "11                     Comedy|Horror  \n",
      "12              Animation|Children's  \n",
      "13                             Drama  \n",
      "14          Action|Adventure|Romance  \n",
      "15                    Drama|Thriller  \n",
      "16                     Drama|Romance  \n",
      "17                          Thriller  \n",
      "18                            Comedy  \n",
      "19                            Action  \n",
      "20               Action|Comedy|Drama  \n",
      "21              Crime|Drama|Thriller  \n",
      "22                          Thriller  \n",
      "23                      Drama|Sci-Fi  \n",
      "24                     Drama|Romance  \n",
      "25                             Drama  \n",
      "26                             Drama  \n",
      "27                           Romance  \n",
      "28                  Adventure|Sci-Fi  \n",
      "29                             Drama  \n",
      "...                              ...  \n",
      "3853                   Horror|Sci-Fi  \n",
      "3854                          Comedy  \n",
      "3855                          Comedy  \n",
      "3856                Adventure|Sci-Fi  \n",
      "3857                Adventure|Sci-Fi  \n",
      "3858                   Comedy|Horror  \n",
      "3859                          Comedy  \n",
      "3860                          Horror  \n",
      "3861                   Horror|Sci-Fi  \n",
      "3862                   Horror|Sci-Fi  \n",
      "3863                   Horror|Sci-Fi  \n",
      "3864                          Sci-Fi  \n",
      "3865                          Horror  \n",
      "3866                  Drama|Thriller  \n",
      "3867                 Sci-Fi|Thriller  \n",
      "3868                          Horror  \n",
      "3869                          Horror  \n",
      "3870                          Horror  \n",
      "3871                          Horror  \n",
      "3872                          Horror  \n",
      "3873                          Comedy  \n",
      "3874                    Comedy|Drama  \n",
      "3875  Adventure|Animation|Children's  \n",
      "3876           Action|Drama|Thriller  \n",
      "3877                        Thriller  \n",
      "3878                          Comedy  \n",
      "3879                           Drama  \n",
      "3880                           Drama  \n",
      "3881                           Drama  \n",
      "3882                  Drama|Thriller  \n",
      "\n",
      "[3883 rows x 3 columns]\n"
     ]
    }
   ],
   "source": [
    "print(movieData)"
   ]
  },
  {
   "cell_type": "code",
   "execution_count": 4,
   "metadata": {},
   "outputs": [
    {
     "name": "stdout",
     "output_type": "stream",
     "text": [
      "[[5 0 0 ... 0 0 3]\n",
      " [0 0 0 ... 0 0 0]\n",
      " [0 0 0 ... 0 0 0]\n",
      " ...\n",
      " [0 0 0 ... 0 0 0]\n",
      " [0 0 0 ... 0 0 0]\n",
      " [0 0 0 ... 0 0 0]]\n"
     ]
    }
   ],
   "source": [
    "ratingMatrix = np.ndarray(\n",
    "    shape=(np.max(ratingData.movie_id.values), np.max(ratingData.user_id.values)),\n",
    "    dtype=np.uint8)\n",
    "\n",
    "ratingMatrix[ratingData.movie_id.values-1, ratingData.user_id.values-1] = ratingData.rating.values\n",
    "print(ratingMatrix)"
   ]
  },
  {
   "cell_type": "code",
   "execution_count": 5,
   "metadata": {},
   "outputs": [
    {
     "name": "stdout",
     "output_type": "stream",
     "text": [
      "[[ 3.57400662 -1.42599338 -1.42599338 ... -1.42599338 -1.42599338\n",
      "   1.57400662]\n",
      " [-0.37152318 -0.37152318 -0.37152318 ... -0.37152318 -0.37152318\n",
      "  -0.37152318]\n",
      " [-0.23874172 -0.23874172 -0.23874172 ... -0.23874172 -0.23874172\n",
      "  -0.23874172]\n",
      " ...\n",
      " [-0.03278146 -0.03278146 -0.03278146 ... -0.03278146 -0.03278146\n",
      "  -0.03278146]\n",
      " [-0.02582781 -0.02582781 -0.02582781 ... -0.02582781 -0.02582781\n",
      "  -0.02582781]\n",
      " [-0.24288079 -0.24288079 -0.24288079 ... -0.24288079 -0.24288079\n",
      "  -0.24288079]]\n"
     ]
    }
   ],
   "source": [
    "normalizedMatrix = ratingMatrix - np.asarray([(np.mean(ratingMatrix, 1))]).T\n",
    "print(normalizedMatrix)"
   ]
  },
  {
   "cell_type": "code",
   "execution_count": 6,
   "metadata": {},
   "outputs": [],
   "source": [
    "\"\"\"### Computing SVD\"\"\"\n",
    "\n",
    "A = normalizedMatrix.T / np.sqrt(ratingMatrix.shape[0] - 1)\n",
    "U, S, V = np.linalg.svd(A)\n"
   ]
  },
  {
   "cell_type": "code",
   "execution_count": 7,
   "metadata": {},
   "outputs": [],
   "source": [
    "\"\"\"### Calculate cosine similarity, sort by most similar and return the top N\"\"\"\n",
    "\n",
    "def similar(ratingData, movie_id, top_n):\n",
    "    index = movie_id - 1 # Movie id starts from 1\n",
    "    movie_row = ratingData[index, :]\n",
    "    magnitude = np.sqrt(np.einsum('ij, ij -> i', ratingData, ratingData)) #Einstein summation |  traditional matrix multiplication and is equivalent to np.matmul(a,b)\n",
    "    similarity = np.dot(movie_row, ratingData.T) / (magnitude[index] * magnitude)\n",
    "    sort_indexes = np.argsort(-similarity) #Perform an indirect sort along the given axis (Last axis)\n",
    "    return sort_indexes[:top_n]"
   ]
  },
  {
   "cell_type": "code",
   "execution_count": 8,
   "metadata": {},
   "outputs": [
    {
     "name": "stderr",
     "output_type": "stream",
     "text": [
      "c:\\Users\\Avi\\Anaconda3\\lib\\site-packages\\ipykernel_launcher.py:7: RuntimeWarning: invalid value encountered in true_divide\n",
      "  import sys\n"
     ]
    },
    {
     "name": "stdout",
     "output_type": "stream",
     "text": [
      "Recommendations for Movie Jumanji (1995): \n",
      "\n",
      "Jumanji (1995)\n",
      "Hook (1991)\n",
      "Indian in the Cupboard, The (1995)\n",
      "NeverEnding Story II: The Next Chapter, The (1990)\n",
      "Dragonheart (1996)\n"
     ]
    }
   ],
   "source": [
    "\"\"\"### Select k principal components to represent the movies, a movie_id to find recommendations and print the top_n results\"\"\"\n",
    "\n",
    "k = 50\n",
    "movie_id = 2\n",
    "top_n = 5\n",
    "\n",
    "sliced = V.T[:, :k] # representative data\n",
    "indexes = similar(sliced, movie_id, top_n)\n",
    "\n",
    "print('Recommendations for Movie {0}: \\n'.format(\n",
    "movieData[movieData.movie_id == movie_id].title.values[0]))\n",
    "for id in indexes + 1:\n",
    "    print(movieData[movieData.movie_id == id].title.values[0])"
   ]
  },
  {
   "cell_type": "code",
   "execution_count": null,
   "metadata": {},
   "outputs": [],
   "source": []
  }
 ],
 "metadata": {
  "kernelspec": {
   "display_name": "Python 3.7.3 ('base')",
   "language": "python",
   "name": "python3"
  },
  "language_info": {
   "codemirror_mode": {
    "name": "ipython",
    "version": 3
   },
   "file_extension": ".py",
   "mimetype": "text/x-python",
   "name": "python",
   "nbconvert_exporter": "python",
   "pygments_lexer": "ipython3",
   "version": "3.7.3"
  },
  "orig_nbformat": 4,
  "vscode": {
   "interpreter": {
    "hash": "9aa2f578b94e228cd08628b208d2067f69006bd03c229b72d067a9d40bb4423a"
   }
  }
 },
 "nbformat": 4,
 "nbformat_minor": 2
}
